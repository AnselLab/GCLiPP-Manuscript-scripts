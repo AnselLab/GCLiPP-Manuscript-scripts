{
 "cells": [
  {
   "cell_type": "markdown",
   "id": "c0a7b7c9",
   "metadata": {},
   "source": [
    "Figure 2B\n",
    "\n",
    "By Harshaan Sekhon (sskhon2014@berkeley.edu)"
   ]
  },
  {
   "cell_type": "markdown",
   "id": "360249e3",
   "metadata": {},
   "source": [
    "The code below takes as input two datasets and produces a bar-chart depicting the abundance of various RNA-binding protein domain motifs within a dataset of RNA abundance within Jurkat T Cells.\n",
    "\n",
    "The two resources that this code relies upon are as follows:\n",
    "    \n",
    "1. **JSL_stim_unstim_exp.csv**: Processed RNA-Seq read counts provided by the following: Felce J: RNA-Seq analysis of early transcriptional responses to activation in the leukaemic Jurkat E6.1 T cell line. 2020b. http://www.doi.org/10.17605/OSF.IO/7X8CG as linked to by Felce et. al (https://wellcomeopenresearch.org/articles/5-42#ref-8) (GSE145453 2x resting and 2x stimulated Jurkat E6.1 cells). Ensembl ID (Release 102) column was then mapped to Entrez Gene ID using the python module pyensembl. pyensembl was installed with the following terminal commands: <code>pip install pyensembl</code> && <code>pyensembl install --release 102 --species human</code>\n",
    "\n",
    "\n",
    "2. **RBPDB_v1.3.1_proteins_2012-11-21.tdt.txt**: a catalog of RNA-binding protein domain instances within the human genome, sourced from http://rbpdb.ccbr.utoronto.ca/download.php (Specific link:http://rbpdb.ccbr.utoronto.ca/downloads/RBPDB_v1.3.1_proteins_2012-11-21.tdt).\n"
   ]
  },
  {
   "cell_type": "code",
   "execution_count": 1,
   "id": "29caa7a6",
   "metadata": {},
   "outputs": [],
   "source": [
    "import numpy as np\n",
    "from datascience import *\n",
    "import matplotlib\n",
    "%matplotlib inline\n",
    "from matplotlib import pyplot as plt\n",
    "import pandas as pd"
   ]
  },
  {
   "cell_type": "code",
   "execution_count": 2,
   "id": "627cf474",
   "metadata": {},
   "outputs": [
    {
     "data": {
      "text/html": [
       "<table border=\"1\" class=\"dataframe\">\n",
       "    <thead>\n",
       "        <tr>\n",
       "            <th>Gene</th> <th>geneid</th> <th>reads</th>\n",
       "        </tr>\n",
       "    </thead>\n",
       "    <tbody>\n",
       "        <tr>\n",
       "            <td>ENSG00000223972</td> <td>DDX11L1    </td> <td>1    </td>\n",
       "        </tr>\n",
       "        <tr>\n",
       "            <td>ENSG00000227232</td> <td>WASH7P     </td> <td>708  </td>\n",
       "        </tr>\n",
       "        <tr>\n",
       "            <td>ENSG00000243485</td> <td>MIR1302-2HG</td> <td>0    </td>\n",
       "        </tr>\n",
       "        <tr>\n",
       "            <td>ENSG00000237613</td> <td>FAM138A    </td> <td>0    </td>\n",
       "        </tr>\n",
       "        <tr>\n",
       "            <td>ENSG00000268020</td> <td>OR4G4P     </td> <td>0    </td>\n",
       "        </tr>\n",
       "        <tr>\n",
       "            <td>ENSG00000240361</td> <td>OR4G11P    </td> <td>0    </td>\n",
       "        </tr>\n",
       "        <tr>\n",
       "            <td>ENSG00000186092</td> <td>OR4F5      </td> <td>0    </td>\n",
       "        </tr>\n",
       "        <tr>\n",
       "            <td>ENSG00000238009</td> <td>AL627309.1 </td> <td>8    </td>\n",
       "        </tr>\n",
       "        <tr>\n",
       "            <td>ENSG00000239945</td> <td>AL627309.3 </td> <td>0    </td>\n",
       "        </tr>\n",
       "        <tr>\n",
       "            <td>ENSG00000233750</td> <td>CICP27     </td> <td>3    </td>\n",
       "        </tr>\n",
       "    </tbody>\n",
       "</table>\n",
       "<p>... (63784 rows omitted)</p>"
      ],
      "text/plain": [
       "Gene            | geneid      | reads\n",
       "ENSG00000223972 | DDX11L1     | 1\n",
       "ENSG00000227232 | WASH7P      | 708\n",
       "ENSG00000243485 | MIR1302-2HG | 0\n",
       "ENSG00000237613 | FAM138A     | 0\n",
       "ENSG00000268020 | OR4G4P      | 0\n",
       "ENSG00000240361 | OR4G11P     | 0\n",
       "ENSG00000186092 | OR4F5       | 0\n",
       "ENSG00000238009 | AL627309.1  | 8\n",
       "ENSG00000239945 | AL627309.3  | 0\n",
       "ENSG00000233750 | CICP27      | 3\n",
       "... (63784 rows omitted)"
      ]
     },
     "execution_count": 2,
     "metadata": {},
     "output_type": "execute_result"
    }
   ],
   "source": [
    "RNA_exp = Table().read_table(\"Resources/JSL_stim_unstim_exp.csv\")\n",
    "RNA_exp = RNA_exp.with_column(\"geneid\", [i.upper() for i in RNA_exp.column(\"geneid\")])\n",
    "\n",
    "RNA_exp = RNA_exp.with_column(\"reads\", RNA_exp.column(\"resting1\") + RNA_exp.column(\"resting2\") + RNA_exp.column(\"stim1\")+ RNA_exp.column(\"stim2\")).select('Gene', 'geneid','reads')\n",
    "RNA_exp"
   ]
  },
  {
   "cell_type": "code",
   "execution_count": 3,
   "id": "46a6277d",
   "metadata": {},
   "outputs": [],
   "source": [
    "file1 = open('Resources/RBPDB_v1.3.1_proteins_2012-11-21.tdt.txt', 'r')\n",
    "Lines = file1.readlines()\n",
    "Lines = np.asarray([i.split('\\t') for i in Lines])"
   ]
  },
  {
   "cell_type": "code",
   "execution_count": 4,
   "id": "1c0225d1",
   "metadata": {},
   "outputs": [],
   "source": [
    "prot_domains = Table().with_columns('emsembl_id',Lines.T[1], 'geneid', Lines.T[4], 'species', Lines.T[6], 'domains', Lines.T[8])"
   ]
  },
  {
   "cell_type": "code",
   "execution_count": 5,
   "id": "af1fd1fa",
   "metadata": {},
   "outputs": [
    {
     "data": {
      "text/html": [
       "<table border=\"1\" class=\"dataframe\">\n",
       "    <thead>\n",
       "        <tr>\n",
       "            <th>emsembl_id</th> <th>geneid</th> <th>species</th> <th>domains</th>\n",
       "        </tr>\n",
       "    </thead>\n",
       "    <tbody>\n",
       "        <tr>\n",
       "            <td>ENSG00000003756</td> <td>RBM5  </td> <td>Homo sapiens</td> <td>RRMx2; Znf_C2H2x1</td>\n",
       "        </tr>\n",
       "        <tr>\n",
       "            <td>ENSG00000004139</td> <td>SARM1 </td> <td>Homo sapiens</td> <td>SAMx1            </td>\n",
       "        </tr>\n",
       "        <tr>\n",
       "            <td>ENSG00000004534</td> <td>RBM6  </td> <td>Homo sapiens</td> <td>RRMx2            </td>\n",
       "        </tr>\n",
       "        <tr>\n",
       "            <td>ENSG00000005189</td> <td>      </td> <td>Homo sapiens</td> <td>RRMx2            </td>\n",
       "        </tr>\n",
       "        <tr>\n",
       "            <td>ENSG00000006047</td> <td>YBX2  </td> <td>Homo sapiens</td> <td>CSDx1            </td>\n",
       "        </tr>\n",
       "        <tr>\n",
       "            <td>ENSG00000009307</td> <td>CSDE1 </td> <td>Homo sapiens</td> <td>CSDx5            </td>\n",
       "        </tr>\n",
       "        <tr>\n",
       "            <td>ENSG00000011304</td> <td>PTBP1 </td> <td>Homo sapiens</td> <td>RRMx4            </td>\n",
       "        </tr>\n",
       "        <tr>\n",
       "            <td>ENSG00000014164</td> <td>ZC3H3 </td> <td>Homo sapiens</td> <td>Znf_CCCHx1       </td>\n",
       "        </tr>\n",
       "        <tr>\n",
       "            <td>ENSG00000015479</td> <td>MATR3 </td> <td>Homo sapiens</td> <td>RRMx2            </td>\n",
       "        </tr>\n",
       "        <tr>\n",
       "            <td>ENSG00000020577</td> <td>SAMD4A</td> <td>Homo sapiens</td> <td>SAMx1            </td>\n",
       "        </tr>\n",
       "    </tbody>\n",
       "</table>\n",
       "<p>... (405 rows omitted)</p>"
      ],
      "text/plain": [
       "emsembl_id      | geneid | species      | domains\n",
       "ENSG00000003756 | RBM5   | Homo sapiens | RRMx2; Znf_C2H2x1\n",
       "ENSG00000004139 | SARM1  | Homo sapiens | SAMx1\n",
       "ENSG00000004534 | RBM6   | Homo sapiens | RRMx2\n",
       "ENSG00000005189 |        | Homo sapiens | RRMx2\n",
       "ENSG00000006047 | YBX2   | Homo sapiens | CSDx1\n",
       "ENSG00000009307 | CSDE1  | Homo sapiens | CSDx5\n",
       "ENSG00000011304 | PTBP1  | Homo sapiens | RRMx4\n",
       "ENSG00000014164 | ZC3H3  | Homo sapiens | Znf_CCCHx1\n",
       "ENSG00000015479 | MATR3  | Homo sapiens | RRMx2\n",
       "ENSG00000020577 | SAMD4A | Homo sapiens | SAMx1\n",
       "... (405 rows omitted)"
      ]
     },
     "execution_count": 5,
     "metadata": {},
     "output_type": "execute_result"
    }
   ],
   "source": [
    "prot_domains = prot_domains.where('species', are.equal_to(\"Homo sapiens\")).where('domains', are.not_equal_to(\"\\\\N\")).where('domains', are.not_equal_to(\"\"))\n",
    "prot_domains"
   ]
  },
  {
   "cell_type": "code",
   "execution_count": 6,
   "id": "dea36113",
   "metadata": {},
   "outputs": [
    {
     "data": {
      "text/html": [
       "<table border=\"1\" class=\"dataframe\">\n",
       "    <thead>\n",
       "        <tr>\n",
       "            <th>domains</th> <th>reads</th>\n",
       "        </tr>\n",
       "    </thead>\n",
       "    <tbody>\n",
       "        <tr>\n",
       "            <td>RRMx3       </td> <td>0    </td>\n",
       "        </tr>\n",
       "        <tr>\n",
       "            <td>Znf_CCCHx1  </td> <td>3    </td>\n",
       "        </tr>\n",
       "        <tr>\n",
       "            <td>RRMx1       </td> <td>32826</td>\n",
       "        </tr>\n",
       "        <tr>\n",
       "            <td>KHx1        </td> <td>8113 </td>\n",
       "        </tr>\n",
       "        <tr>\n",
       "            <td>RRMx1       </td> <td>2529 </td>\n",
       "        </tr>\n",
       "        <tr>\n",
       "            <td>KHx1        </td> <td>481  </td>\n",
       "        </tr>\n",
       "        <tr>\n",
       "            <td>KHx1        </td> <td>15416</td>\n",
       "        </tr>\n",
       "        <tr>\n",
       "            <td>KHx1        </td> <td>4241 </td>\n",
       "        </tr>\n",
       "        <tr>\n",
       "            <td>Znfx1; SAMx1</td> <td>6332 </td>\n",
       "        </tr>\n",
       "        <tr>\n",
       "            <td>KHx3; SAMx1 </td> <td>98   </td>\n",
       "        </tr>\n",
       "    </tbody>\n",
       "</table>\n",
       "<p>... (342 rows omitted)</p>"
      ],
      "text/plain": [
       "domains      | reads\n",
       "RRMx3        | 0\n",
       "Znf_CCCHx1   | 3\n",
       "RRMx1        | 32826\n",
       "KHx1         | 8113\n",
       "RRMx1        | 2529\n",
       "KHx1         | 481\n",
       "KHx1         | 15416\n",
       "KHx1         | 4241\n",
       "Znfx1; SAMx1 | 6332\n",
       "KHx3; SAMx1  | 98\n",
       "... (342 rows omitted)"
      ]
     },
     "execution_count": 6,
     "metadata": {},
     "output_type": "execute_result"
    }
   ],
   "source": [
    "prot_combo = RNA_exp.join(\"geneid\", prot_domains).select(\"domains\", \"reads\")\n",
    "prot_combo"
   ]
  },
  {
   "cell_type": "code",
   "execution_count": 7,
   "id": "cccef1b3",
   "metadata": {},
   "outputs": [],
   "source": [
    "abundance_list= []\n",
    "domain_list = []\n",
    "\n",
    "for i in np.arange(prot_combo.num_rows):\n",
    "    domains = prot_combo[\"domains\"][i].split(\"; \")\n",
    "    read_count = float(prot_combo[\"reads\"][i])\n",
    "    \n",
    "    for domain in domains:\n",
    "        if 'x' in domain:\n",
    "            domain = domain[:domain.find(\"x\")]\n",
    "        domain_list.append(domain)\n",
    "        abundance_list.append(read_count)"
   ]
  },
  {
   "cell_type": "code",
   "execution_count": 8,
   "id": "2fad1401",
   "metadata": {},
   "outputs": [
    {
     "data": {
      "text/html": [
       "<table border=\"1\" class=\"dataframe\">\n",
       "    <thead>\n",
       "        <tr>\n",
       "            <th>domainZ</th> <th>reads sum</th>\n",
       "        </tr>\n",
       "    </thead>\n",
       "    <tbody>\n",
       "        <tr>\n",
       "            <td>RRM       </td> <td>2.96805e+06</td>\n",
       "        </tr>\n",
       "        <tr>\n",
       "            <td>KH        </td> <td>455805     </td>\n",
       "        </tr>\n",
       "        <tr>\n",
       "            <td>Znf_CCCH  </td> <td>336215     </td>\n",
       "        </tr>\n",
       "        <tr>\n",
       "            <td>CSD       </td> <td>220507     </td>\n",
       "        </tr>\n",
       "        <tr>\n",
       "            <td>LSm       </td> <td>166126     </td>\n",
       "        </tr>\n",
       "        <tr>\n",
       "            <td>Znf_RanBP2</td> <td>156189     </td>\n",
       "        </tr>\n",
       "        <tr>\n",
       "            <td>Znf_CHHC  </td> <td>132396     </td>\n",
       "        </tr>\n",
       "        <tr>\n",
       "            <td>Znf_C2H2  </td> <td>89072      </td>\n",
       "        </tr>\n",
       "        <tr>\n",
       "            <td>S1        </td> <td>88848      </td>\n",
       "        </tr>\n",
       "        <tr>\n",
       "            <td>La        </td> <td>80740      </td>\n",
       "        </tr>\n",
       "    </tbody>\n",
       "</table>\n",
       "<p>... (13 rows omitted)</p>"
      ],
      "text/plain": [
       "domainZ    | reads sum\n",
       "RRM        | 2.96805e+06\n",
       "KH         | 455805\n",
       "Znf_CCCH   | 336215\n",
       "CSD        | 220507\n",
       "LSm        | 166126\n",
       "Znf_RanBP2 | 156189\n",
       "Znf_CHHC   | 132396\n",
       "Znf_C2H2   | 89072\n",
       "S1         | 88848\n",
       "La         | 80740\n",
       "... (13 rows omitted)"
      ]
     },
     "execution_count": 8,
     "metadata": {},
     "output_type": "execute_result"
    }
   ],
   "source": [
    "summary = Table().with_columns(\"domainZ\", domain_list,\"reads\" , abundance_list).group(0, sum).sort(1, descending=True)\n",
    "summary"
   ]
  },
  {
   "cell_type": "code",
   "execution_count": 9,
   "id": "cb27b401",
   "metadata": {},
   "outputs": [],
   "source": [
    "summary.to_csv(\"Jurkat_E6.1_Data--RBPDB v1.3.csv\")"
   ]
  },
  {
   "cell_type": "code",
   "execution_count": 10,
   "id": "4575641d",
   "metadata": {},
   "outputs": [
    {
     "data": {
      "image/png": "[encoded data removed]",
      "text/plain": [
       "<Figure size 300x600 with 1 Axes>"
      ]
     },
     "metadata": {},
     "output_type": "display_data"
    }
   ],
   "source": [
    "import matplotlib.pyplot as plt\n",
    "import numpy as np\n",
    "\n",
    "\n",
    "plt.rcdefaults()\n",
    "fig, ax = plt.subplots(figsize=(3,6))\n",
    "\n",
    "ax.barh(np.arange(len(summary.column(0))), summary.column(1), align='center', color=\"lightsalmon\", alpha=0.7)\n",
    "ax.set_yticks(np.arange(len(summary.column(0))))\n",
    "ax.set_yticklabels(summary.column(0))\n",
    "ax.invert_yaxis()  # labels read top-to-bottom\n",
    "ax.set_xlabel('\\n\\n\\n Total # of Reads of RNA-Binding \\nDomain Containing Proteins')\n",
    "\n",
    "plt.savefig(\"Domain-Abundance-Chart.pdf\",bbox_inches = \"tight\")"
   ]
  }
 ],
 "metadata": {
  "kernelspec": {
   "display_name": "Python 3",
   "language": "python",
   "name": "python3"
  },
  "language_info": {
   "codemirror_mode": {
    "name": "ipython",
    "version": 3
   },
   "file_extension": ".py",
   "mimetype": "text/x-python",
   "name": "python",
   "nbconvert_exporter": "python",
   "pygments_lexer": "ipython3",
   "version": "3.6.13"
  }
 },
 "nbformat": 4,
 "nbformat_minor": 5
}
